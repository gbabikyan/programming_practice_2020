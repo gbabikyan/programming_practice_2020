{
 "cells": [
  {
   "cell_type": "markdown",
   "metadata": {},
   "source": [
    "\n",
    "<p style=\"align: center;\"><img align=center src=\"https://images.macrumors.com/t/Zoli3NBTSRL1Xq77tftPr5zU4Po=/1600x0/article-new/2017/05/Telegram-app.jpg\"  width=400></p>\n"
   ]
  },
  {
   "cell_type": "markdown",
   "metadata": {},
   "source": [
    "\n",
    "\n",
    "<p style=\"align: center;\"><img align=center src=\"https://support.integromat.com/hc/article_attachments/360022991633/MqpMwEVTkY.gif\"  width=400></p>\n",
    "\n"
   ]
  },
  {
   "cell_type": "code",
   "execution_count": 1,
   "metadata": {},
   "outputs": [],
   "source": [
    "# !pip install python-telegram-bot"
   ]
  },
  {
   "cell_type": "code",
   "execution_count": 2,
   "metadata": {},
   "outputs": [],
   "source": [
    "# pip install pyTelegramBotAPI"
   ]
  },
  {
   "cell_type": "code",
   "execution_count": 3,
   "metadata": {},
   "outputs": [],
   "source": [
    "# pip install pytelegrambotapi --upgrade"
   ]
  },
  {
   "cell_type": "code",
   "execution_count": 4,
   "metadata": {},
   "outputs": [],
   "source": [
    "import sys\n",
    "import random\n",
    "import numpy as np\n"
   ]
  },
  {
   "cell_type": "markdown",
   "metadata": {},
   "source": [
    "# Текст"
   ]
  },
  {
   "cell_type": "code",
   "execution_count": 5,
   "metadata": {},
   "outputs": [],
   "source": [
    "import telebot\n",
    "\n",
    "Token = '1481920611: '  # Ваш Токен из BotFather  У вас должен быть свой токен\n",
    "bot = telebot.TeleBot(Token)\n",
    " \n",
    "\n",
    "\n",
    "@bot.message_handler(content_types=['text'])\n",
    "def handle_text(message):\n",
    "    print(message)\n",
    "    \n",
    "    pred = random.randint(1, 100)\n",
    "    mess = 'Вот тебе случайное число!'    \n",
    "    bot.send_message(message.chat.id, pred)\n",
    "    \n",
    "    \n",
    "    ur = 'data:image/png;base64,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'\n",
    "    \n",
    "    bot.send_photo(message.chat.id, ur) \n",
    "\n",
    "\n",
    "bot.polling(none_stop=True)"
   ]
  },
  {
   "cell_type": "markdown",
   "metadata": {},
   "source": [
    "# Клавиатура"
   ]
  },
  {
   "cell_type": "code",
   "execution_count": 6,
   "metadata": {},
   "outputs": [],
   "source": [
    "from telebot import types\n",
    "\n",
    "Token = '1481920611: '  # Ваш Токен из BotFather  У вас должен быть свой токен\n",
    "bot = telebot.TeleBot(Token)\n",
    "\n",
    "\n",
    "@bot.message_handler(commands=['start'])\n",
    "def welcome(message):\n",
    " \n",
    "    # keyboard\n",
    "    markup = types.ReplyKeyboardMarkup(resize_keyboard=True)\n",
    "    item1 = types.KeyboardButton(\"🎲 Рандомное число\")\n",
    "    item2 = types.KeyboardButton(\"😊 Как дела?\")\n",
    " \n",
    "    markup.add(item1, item2)\n",
    " \n",
    "    bot.send_message(message.chat.id, \"Добро пожаловать, {0.first_name}!\\nЯ - <b>{1.first_name}</b>, бот созданный чтобы быть подопытным кроликом.\".format(message.from_user, bot.get_me()),\n",
    "        parse_mode='html', reply_markup=markup)\n",
    "\n",
    "\n",
    "@bot.message_handler(content_types=['text'])\n",
    "def lalala(message):\n",
    "    if message.chat.type == 'private':\n",
    "        if message.text == '🎲 Рандомное число':\n",
    "            bot.send_message(message.chat.id, str(random.randint(0,100)))\n",
    "        elif message.text == '😊 Как дела?':\n",
    " \n",
    "            markup = types.InlineKeyboardMarkup(row_width=2)\n",
    "            item1 = types.InlineKeyboardButton(\"Хорошо\", callback_data='good')\n",
    "            item2 = types.InlineKeyboardButton(\"Не очень\", callback_data='bad')\n",
    " \n",
    "            markup.add(item1, item2)\n",
    " \n",
    "            bot.send_message(message.chat.id, 'Отлично, сам как?', reply_markup=markup)\n",
    "        else:\n",
    "            bot.send_message(message.chat.id, 'Я не знаю что ответить 😢')\n",
    "            \n",
    "            \n",
    "@bot.callback_query_handler(func=lambda call: True)\n",
    "def callback_inline(call):\n",
    "    try:\n",
    "        if call.message:\n",
    "            if call.data == 'good':\n",
    "                bot.send_message(call.message.chat.id, 'Вот и отличненько 😊')\n",
    "            elif call.data == 'bad':\n",
    "                bot.send_message(call.message.chat.id, 'Бывает 😢')\n",
    " \n",
    "            # remove inline buttons\n",
    "            bot.edit_message_text(chat_id=call.message.chat.id, message_id=call.message.message_id, text=\"😊 Как дела?\",\n",
    "                reply_markup=None)\n",
    " \n",
    "            # show alert\n",
    "            bot.answer_callback_query(callback_query_id=call.id, show_alert=False,\n",
    "                text=\"ЭТО ТЕСТОВОЕ УВЕДОМЛЕНИЕ!!11\")\n",
    " \n",
    "    except Exception as e:\n",
    "        print(repr(e))\n",
    " \n",
    "# RUN\n",
    "bot.polling(none_stop=True)\n"
   ]
  },
  {
   "cell_type": "markdown",
   "metadata": {},
   "source": [
    "# Картинки"
   ]
  },
  {
   "cell_type": "code",
   "execution_count": 7,
   "metadata": {},
   "outputs": [],
   "source": [
    " \n",
    "\n",
    "Token = '628561582: -0n2nMRE_l3QjXioQ'  # Ваш Токен из BotFather \n",
    "bot = telebot.TeleBot(Token)\n",
    "\n",
    "@bot.message_handler(content_types=['photo'])\n",
    "def handle_docs_photo(message):\n",
    "    print(message)\n",
    "    \n",
    "#     file_info = bot.get_file(message.photo[len(message.photo)-1].file_id)\n",
    "#     downloaded_file = bot.download_file(file_info.file_path)\n",
    "    \n",
    "    \n",
    "#     src='C:/Users/sasha/Documents/My_handmade_notebooks/'+file_info.file_path\n",
    "    \n",
    "#     with open(src, 'wb') as new_file:\n",
    "#         new_file.write(downloaded_file)\n",
    "    \n",
    "    \n",
    "#     pred = 1# proverka()\n",
    "    \n",
    "#     if pred > 0.35:\n",
    "#          answer = 'Безопасно'\n",
    "          \n",
    "#     else:\n",
    "#          answer = 'Обнаружена опасность!'\n",
    "#     ur = 'data:image/png;base64,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'\n",
    "#     bot.send_photo(chat_id, ur) \n",
    "    bot.send_message(message.chat.id, answer)\n",
    "\n",
    "bot.polling()"
   ]
  },
  {
   "cell_type": "code",
   "execution_count": null,
   "metadata": {},
   "outputs": [],
   "source": [
    " "
   ]
  },
  {
   "cell_type": "code",
   "execution_count": null,
   "metadata": {},
   "outputs": [],
   "source": []
  },
  {
   "cell_type": "markdown",
   "metadata": {},
   "source": [
    "Что дальше?! \n",
    "\n",
    "Идем на сайт https://core.telegram.org/bots/api и просто выбираем нужный вам раздел."
   ]
  },
  {
   "cell_type": "code",
   "execution_count": 8,
   "metadata": {},
   "outputs": [
    {
     "ename": "SyntaxError",
     "evalue": "invalid syntax (<ipython-input-8-0eb1f416efa1>, line 1)",
     "output_type": "error",
     "traceback": [
      "\u001b[1;36m  File \u001b[1;32m\"<ipython-input-8-0eb1f416efa1>\"\u001b[1;36m, line \u001b[1;32m1\u001b[0m\n\u001b[1;33m    Рано или поздно вам понадобиться прикрутить память боту\u001b[0m\n\u001b[1;37m           ^\u001b[0m\n\u001b[1;31mSyntaxError\u001b[0m\u001b[1;31m:\u001b[0m invalid syntax\n"
     ]
    }
   ],
   "source": [
    "Рано или поздно вам понадобиться прикрутить память боту\n",
    "\n",
    "Читать тут https://habr.com/ru/post/321510/"
   ]
  },
  {
   "cell_type": "markdown",
   "metadata": {},
   "source": [
    "\n",
    "<p style=\"align: center;\"><img align=center src=\"https://sun9-44.userapi.com/uhDcaJ8K4tWK7VC1X5C0vi8xWmtKhvnXYBT8rA/QMB9_49iy9E.jpg\"  width=400></p>\n"
   ]
  },
  {
   "cell_type": "code",
   "execution_count": null,
   "metadata": {},
   "outputs": [],
   "source": [
    "#!pip3 install vk_api"
   ]
  },
  {
   "cell_type": "code",
   "execution_count": null,
   "metadata": {},
   "outputs": [],
   "source": [
    " "
   ]
  },
  {
   "cell_type": "code",
   "execution_count": null,
   "metadata": {},
   "outputs": [],
   "source": [
    "# !pip install vkapi"
   ]
  },
  {
   "cell_type": "code",
   "execution_count": 9,
   "metadata": {},
   "outputs": [],
   "source": [
    "import vkapi\n",
    "import vk"
   ]
  },
  {
   "cell_type": "markdown",
   "metadata": {},
   "source": [
    "# Авторизация от имени сообщества."
   ]
  },
  {
   "cell_type": "code",
   "execution_count": 10,
   "metadata": {},
   "outputs": [
    {
     "name": "stdout",
     "output_type": "stream",
     "text": [
      "Авторизовался\n"
     ]
    },
    {
     "data": {
      "text/plain": [
       "3"
      ]
     },
     "execution_count": 10,
     "metadata": {},
     "output_type": "execute_result"
    }
   ],
   "source": [
    "token  = ' '\n",
    "app_id =  6741650\n",
    "\n",
    "session = vk.Session(token)  #Для сообщества\n",
    "vk_api = vk.API(session)\n",
    "\n",
    "\n",
    "print('Авторизовался')\n",
    "my_id = 176654286\n",
    "text = 'Мир, это бот!'\n",
    " \n",
    "vk_api.messages.send(app_id=app_id, user_id=my_id, message=text, attachment='', v='5.74')\n",
    " \n"
   ]
  },
  {
   "cell_type": "code",
   "execution_count": null,
   "metadata": {},
   "outputs": [],
   "source": [
    "def message_send(id, text, att=''):\n",
    "    #sleep(1)\n",
    "    try:\n",
    "        vk_api.messages.send(app_id=app_id, user_id=id, message=text, attachment=att, v='5.74')\n",
    "        return 1\n",
    "    except Exception as e:\n",
    "        print(e)\n",
    "        print('message_error')\n",
    "        return 0"
   ]
  },
  {
   "cell_type": "code",
   "execution_count": null,
   "metadata": {},
   "outputs": [],
   "source": []
  },
  {
   "cell_type": "code",
   "execution_count": null,
   "metadata": {},
   "outputs": [],
   "source": []
  },
  {
   "cell_type": "code",
   "execution_count": null,
   "metadata": {},
   "outputs": [],
   "source": []
  },
  {
   "cell_type": "code",
   "execution_count": null,
   "metadata": {},
   "outputs": [],
   "source": []
  },
  {
   "cell_type": "code",
   "execution_count": null,
   "metadata": {},
   "outputs": [],
   "source": []
  },
  {
   "cell_type": "code",
   "execution_count": null,
   "metadata": {},
   "outputs": [],
   "source": []
  },
  {
   "cell_type": "markdown",
   "metadata": {},
   "source": [
    "# А если не как сообщество, а как человек?!"
   ]
  },
  {
   "cell_type": "code",
   "execution_count": null,
   "metadata": {},
   "outputs": [],
   "source": [
    "# login = 'login'\n",
    "# password = 'password'\n",
    "app_id = 6741650      #6476868  #6742403            #6476868\n",
    "\n",
    "scope = 'messages, friends, wall, groups'\n",
    "\n",
    "session = vk.AuthSession(app_id, login, password, scope='messages, friends, wall, groups')\n",
    "vk_api = vk.API(session)\n",
    "\n",
    "\n"
   ]
  },
  {
   "cell_type": "code",
   "execution_count": null,
   "metadata": {},
   "outputs": [],
   "source": [
    " "
   ]
  },
  {
   "cell_type": "code",
   "execution_count": null,
   "metadata": {},
   "outputs": [],
   "source": []
  },
  {
   "cell_type": "markdown",
   "metadata": {},
   "source": [
    " <p style=\"align: center;\"><img align=center src=\"https://www.pythonanywhere.com/static/anywhere/images/PA-logo.svg\"  width=400></p>\n"
   ]
  },
  {
   "cell_type": "code",
   "execution_count": null,
   "metadata": {},
   "outputs": [],
   "source": [
    " "
   ]
  },
  {
   "cell_type": "code",
   "execution_count": null,
   "metadata": {},
   "outputs": [],
   "source": []
  }
 ],
 "metadata": {
  "kernelspec": {
   "display_name": "Python 3",
   "language": "python",
   "name": "python3"
  },
  "language_info": {
   "codemirror_mode": {
    "name": "ipython",
    "version": 3
   },
   "file_extension": ".py",
   "mimetype": "text/x-python",
   "name": "python",
   "nbconvert_exporter": "python",
   "pygments_lexer": "ipython3",
   "version": "3.7.9"
  }
 },
 "nbformat": 4,
 "nbformat_minor": 4
}
