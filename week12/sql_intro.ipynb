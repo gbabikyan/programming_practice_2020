{
 "cells": [
  {
   "cell_type": "markdown",
   "metadata": {},
   "source": [
    "# SQL на python с нуля"
   ]
  },
  {
   "cell_type": "markdown",
   "metadata": {},
   "source": [
    "\n",
    "<p style=\"align: center;\"><img align=center src=\"https://www.freecodecamp.org/news/content/images/2020/08/Untitled-design-1-.png\"  width=400></p>\n"
   ]
  },
  {
   "cell_type": "code",
   "execution_count": null,
   "metadata": {},
   "outputs": [],
   "source": [
    "# Подробный разбор приведен тут https://habr.com/ru/post/321510/"
   ]
  },
  {
   "cell_type": "code",
   "execution_count": 3,
   "metadata": {},
   "outputs": [],
   "source": [
    "import sqlite3 # Импортируем библиотеку, соответствующую типу нашей базы данных "
   ]
  },
  {
   "cell_type": "markdown",
   "metadata": {},
   "source": [
    "С базой можно работать и во всяких редакторах. Советую вот эту\n",
    "# https://sqlitestudio.pl/  "
   ]
  },
  {
   "cell_type": "code",
   "execution_count": null,
   "metadata": {},
   "outputs": [],
   "source": [
    " "
   ]
  },
  {
   "cell_type": "markdown",
   "metadata": {},
   "source": [
    "\n",
    "<p style=\"align: center;\"><img align=center src=\"https://habrastorage.org/files/38a/503/ff2/38a503ff27b846e4aac2411fb0fdf614.png\"  width=400></p>\n"
   ]
  },
  {
   "cell_type": "code",
   "execution_count": null,
   "metadata": {},
   "outputs": [],
   "source": [
    "Скачаем себе готовую базу"
   ]
  },
  {
   "cell_type": "markdown",
   "metadata": {},
   "source": [
    "https://github.com/lerocha/chinook-database/blob/master/ChinookDatabase/DataSources/Chinook_Sqlite.sqlite"
   ]
  },
  {
   "cell_type": "code",
   "execution_count": null,
   "metadata": {},
   "outputs": [],
   "source": []
  },
  {
   "cell_type": "markdown",
   "metadata": {},
   "source": [
    "# Главный шаблон"
   ]
  },
  {
   "cell_type": "code",
   "execution_count": 91,
   "metadata": {},
   "outputs": [],
   "source": [
    "# Создаем соединение с нашей базой данных\n",
    "# В нашем примере у нас это просто файл базы\n",
    "conn = sqlite3.connect('Chinook_Sqlite.sqlite')\n",
    "\n",
    "# Создаем курсор - это специальный объект который делает запросы и получает их результаты\n",
    "cursor = conn.cursor()\n",
    "\n",
    "# ТУТ БУДЕТ НАШ КОД РАБОТЫ С БАЗОЙ ДАННЫХ\n",
    "# КОД ДАЛЬНЕЙШИХ ПРИМЕРОВ ВСТАВЛЯТЬ В ЭТО МЕСТО\n",
    "\n",
    "# Не забываем закрыть соединение с базой данных\n",
    "#conn.close()"
   ]
  },
  {
   "cell_type": "markdown",
   "metadata": {},
   "source": [
    " но что если закрыть/не закрыть?"
   ]
  },
  {
   "cell_type": "markdown",
   "metadata": {},
   "source": [
    "# Чтение из базы"
   ]
  },
  {
   "cell_type": "code",
   "execution_count": 97,
   "metadata": {},
   "outputs": [
    {
     "name": "stdout",
     "output_type": "stream",
     "text": [
      "[('AC/DC',), ('Accept',), ('Aerosmith',)]\n",
      "[]\n"
     ]
    }
   ],
   "source": [
    "# Делаем SELECT запрос к базе данных, используя обычный SQL-синтаксис\n",
    "cursor.execute(\"SELECT Name FROM Artist LIMIT 3\")\n",
    "\n",
    " \n",
    "\n",
    "# Получаем результат сделанного запроса\n",
    "results = cursor.fetchall()\n",
    "results2 =  cursor.fetchall()\n",
    "\n",
    "print(results)   # [('A Cor Do Som',), ('Aaron Copland & London Symphony Orchestra',), ('Aaron Goldberg',)]\n",
    "print(results2)  # []\n",
    "\n",
    "\n",
    "# Не забываем закрыть соединение с базой данных\n",
    "#conn.close()"
   ]
  },
  {
   "cell_type": "code",
   "execution_count": null,
   "metadata": {},
   "outputs": [],
   "source": []
  },
  {
   "cell_type": "markdown",
   "metadata": {},
   "source": [
    "# Слишком просто? Ну, так и должно быть!"
   ]
  },
  {
   "cell_type": "markdown",
   "metadata": {},
   "source": [
    "<p style=\"align: center;\"><img align=center src=\"https://lh3.googleusercontent.com/proxy/qlD_MrTxT8OWbvjyTCHq1I9N4a1hbxkX_zzVdufnm2R0iK9VFdMH6ZhDc4Qzzp4o2BF5G3-Q5CEvgNuetGamESF41nQ\"  width=400></p>\n"
   ]
  },
  {
   "cell_type": "markdown",
   "metadata": {},
   "source": [
    "Обратите внимание: После получения результата из курсора, второй раз без повторения самого запроса его получить нельзя — вернется пустой результат!"
   ]
  },
  {
   "cell_type": "markdown",
   "metadata": {},
   "source": [
    "# Запись в базу"
   ]
  },
  {
   "cell_type": "code",
   "execution_count": 107,
   "metadata": {},
   "outputs": [
    {
     "name": "stdout",
     "output_type": "stream",
     "text": [
      "[('A Aagrh!',), ('A Aagrh!',), ('A Aagrh!',)]\n"
     ]
    }
   ],
   "source": [
    "# Делаем INSERT запрос к базе данных, используя обычный SQL-синтаксис\n",
    "#cursor.execute(\"insert into Artist values (Null, 'A Aagrh!') \")\n",
    "cursor.execute(\"INSERT INTO Artist VALUES (Null, 'Los Angeles')\")\n",
    "\n",
    " \n",
    "conn.commit() # Если мы не просто читаем, но и вносим изменения в базу данных - необходимо сохранить транзакцию\n",
    "\n",
    "\n",
    "# Проверяем результат\n",
    "cursor.execute(\"SELECT Name FROM Artist ORDER BY Name LIMIT 3\")\n",
    "results = cursor.fetchall()\n",
    "print(results)  # [('A Aagrh!',), ('A Cor Do Som',), ('Aaron Copland & London Symphony Orchestra',)]"
   ]
  },
  {
   "cell_type": "markdown",
   "metadata": {},
   "source": [
    "Примечание: Если к базе установлено несколько соединений и одно из них осуществляет модификацю базы, то база SQLite залочивается до завершения (метод соединения .commit()) или отмены (метод соединения .rollback()) транзакции."
   ]
  },
  {
   "cell_type": "markdown",
   "metadata": {},
   "source": [
    "# Разбиваем запрос на несколько строк в тройных кавычках"
   ]
  },
  {
   "cell_type": "markdown",
   "metadata": {},
   "source": [
    "Длинные запросы можно разбивать на несколько строк в произвольном порядке,\n",
    "\n",
    "если они заключены в тройные кавычки — одинарные ('''…''') или двойные (\"\"\"...\"\"\")"
   ]
  },
  {
   "cell_type": "code",
   "execution_count": 108,
   "metadata": {},
   "outputs": [
    {
     "data": {
      "text/plain": [
       "<sqlite3.Cursor at 0x197d1a620a0>"
      ]
     },
     "execution_count": 108,
     "metadata": {},
     "output_type": "execute_result"
    }
   ],
   "source": [
    "sql = \"\"\"\n",
    "  SELECT name\n",
    "  FROM Artist\n",
    "  ORDER BY Name LIMIT 3\n",
    "\"\"\"\n",
    "\n",
    "\n",
    "cursor.execute(sql)"
   ]
  },
  {
   "cell_type": "code",
   "execution_count": null,
   "metadata": {},
   "outputs": [],
   "source": []
  },
  {
   "cell_type": "markdown",
   "metadata": {},
   "source": [
    "# Объединяем запросы к базе данных в один вызов метода\n"
   ]
  },
  {
   "cell_type": "markdown",
   "metadata": {},
   "source": [
    "Метод курсора .execute() позволяет делать только один запрос за раз, при попытке сделать несколько через точку с запятой будет ошибка."
   ]
  },
  {
   "cell_type": "code",
   "execution_count": null,
   "metadata": {},
   "outputs": [],
   "source": [
    "#Правильно!\n",
    "cursor.execute(\"\"\"insert into Artist values (Null, 'A Aagrh!');\"\"\")\n",
    "cursor.execute(\"\"\"insert into Artist values (Null, 'A Aagrh-2!');\"\"\")"
   ]
  },
  {
   "cell_type": "markdown",
   "metadata": {},
   "source": [
    "Для решения такой задачи можно либо несколько раз вызывать метод курсора .execute()"
   ]
  },
  {
   "cell_type": "code",
   "execution_count": null,
   "metadata": {},
   "outputs": [],
   "source": [
    "#Неправильно!\n",
    "cursor.execute(\"\"\"\n",
    "\tinsert into Artist values (Null, 'A Aagrh!');\n",
    "\tinsert into Artist values (Null, 'A Aagrh-2!');\n",
    "\"\"\")\n",
    "# sqlite3.Warning: You can only execute one statement at a time."
   ]
  },
  {
   "cell_type": "markdown",
   "metadata": {},
   "source": [
    "Либо использовать метод курсора .executescript()"
   ]
  },
  {
   "cell_type": "code",
   "execution_count": null,
   "metadata": {},
   "outputs": [],
   "source": [
    "cursor.executescript(\"\"\"\n",
    " insert into Artist values (Null, 'A Aagrh!');\n",
    " insert into Artist values (Null, 'A Aagrh-2!');\n",
    "\"\"\")"
   ]
  },
  {
   "cell_type": "markdown",
   "metadata": {},
   "source": [
    "Данный метод также удобен, когда у нас запросы сохранены в отдельной переменной или даже в файле и нам его надо применить такой запрос к базе."
   ]
  },
  {
   "cell_type": "code",
   "execution_count": null,
   "metadata": {},
   "outputs": [],
   "source": []
  },
  {
   "cell_type": "markdown",
   "metadata": {},
   "source": [
    "# Делаем множественную вставку строк проходя по коллекции с помощью метода курсора .executemany()"
   ]
  },
  {
   "cell_type": "code",
   "execution_count": null,
   "metadata": {},
   "outputs": [],
   "source": [
    "# Обратите внимание, даже передавая одно значение - его нужно передавать кортежем!\n",
    "# Именно по этому тут используется запятая в скобках!\n",
    "new_artists = [\n",
    "    ('A Aagrh!',),\n",
    "    ('A Aagrh!-2',),\n",
    "    ('A Aagrh!-3',),\n",
    "]\n",
    "cursor.executemany(\"insert into Artist values (Null, ?);\", new_artists)"
   ]
  },
  {
   "cell_type": "markdown",
   "metadata": {},
   "source": [
    "# Получаем результаты по одному, используя метод курсора .fetchone()"
   ]
  },
  {
   "cell_type": "markdown",
   "metadata": {},
   "source": [
    "Он всегда возвращает кортеж или None. если запрос пустой."
   ]
  },
  {
   "cell_type": "code",
   "execution_count": null,
   "metadata": {},
   "outputs": [],
   "source": [
    "cursor.execute(\"SELECT Name FROM Artist ORDER BY Name LIMIT 3\")\n",
    "print(cursor.fetchone())    # ('A Cor Do Som',)\n",
    "print(cursor.fetchone())    # ('Aaron Copland & London Symphony Orchestra',)\n",
    "print(cursor.fetchone())    # ('Aaron Goldberg',)\n",
    "print(cursor.fetchone())    # None"
   ]
  },
  {
   "cell_type": "markdown",
   "metadata": {},
   "source": [
    "Важно! Стандартный курсор забирает все данные с сервера сразу, не зависимо от того, используем мы .fetchall() или .fetchone()"
   ]
  },
  {
   "cell_type": "markdown",
   "metadata": {},
   "source": [
    "# Повышаем устойчивость кода\n",
    "Для большей устойчивости программы (особенно при операциях записи) можно оборачивать инструкции обращения к БД в блоки «try-except-else» и использовать встроенный в sqlite3 «родной» объект ошибок, например, так:"
   ]
  },
  {
   "cell_type": "code",
   "execution_count": null,
   "metadata": {},
   "outputs": [],
   "source": [
    "try:\n",
    "    cursor.execute(sql_statement)\n",
    "    result = cursor.fetchall()\n",
    "except sqlite3.DatabaseError as err:       \n",
    "    print(\"Error: \", err)\n",
    "else:\n",
    "    conn.commit()"
   ]
  },
  {
   "cell_type": "code",
   "execution_count": null,
   "metadata": {},
   "outputs": [],
   "source": []
  },
  {
   "cell_type": "markdown",
   "metadata": {},
   "source": [
    "# Пример использования в коде"
   ]
  },
  {
   "cell_type": "code",
   "execution_count": 9,
   "metadata": {},
   "outputs": [],
   "source": [
    "# Импортируем библиотеку, соответствующую типу нашей базы данных \n",
    "import sqlite3\n",
    "\n",
    "# Создаем соединение с нашей базой данных\n",
    "# В нашем примере у нас это просто файл базы\n",
    "conn = sqlite3.connect('database.sqlite')\n",
    "cursor = conn.cursor() # Создаем курсор  \n",
    "\n",
    "\n",
    "# Не забываем закрыть соединение с базой данных\n",
    "#conn.close()\n",
    "\n",
    "def create_table():\n",
    "    cursor.execute(\"\"\"CREATE TABLE tourists (u_id integer, m_text text, city text, date text) \"\"\")\n",
    "    return 0\n",
    "\n",
    "def get_Data(city):\n",
    "    sql = \"SELECT * FROM tourists WHERE city=%s\" % city\n",
    "    cursor.execute(sql)\n",
    "    conn.commit()\n",
    "    return cursor.fetchall()\n",
    "\n",
    "def add_Data(id, text, city, date):\n",
    "    cursor.execute(\"INSERT INTO tourists VALUES (?,?,?,?)\", (id, text, city, date))\n",
    "    conn.commit()\n",
    "    \n",
    "def Update_Data(group_id, i):                     # Добавляем балл\n",
    "    req =\"UPDATE tourists SET count=? WHERE group_id=?;\"\n",
    "    cursor.execute(req, (i, group_id))\n",
    "    conn.commit()\n",
    "\n",
    "# Эта ячейка не работает. Приведена просто в качестве демонстрации! \n",
    "# Эта ячейка не работает. Приведена просто в качестве демонстрации!\n",
    "# Эта ячейка не работает. Приведена просто в качестве демонстрации!\n",
    "# Эта ячейка не работает. Приведена просто в качестве демонстрации!\n"
   ]
  },
  {
   "cell_type": "code",
   "execution_count": null,
   "metadata": {},
   "outputs": [],
   "source": [
    " "
   ]
  },
  {
   "cell_type": "code",
   "execution_count": null,
   "metadata": {},
   "outputs": [],
   "source": [
    " "
   ]
  },
  {
   "cell_type": "code",
   "execution_count": null,
   "metadata": {},
   "outputs": [],
   "source": [
    " "
   ]
  },
  {
   "cell_type": "code",
   "execution_count": 8,
   "metadata": {},
   "outputs": [],
   "source": [
    " "
   ]
  },
  {
   "cell_type": "markdown",
   "metadata": {},
   "source": [
    "# А как же pandas? \n",
    "Простенькая альтернатива для простых проектов"
   ]
  },
  {
   "cell_type": "code",
   "execution_count": 109,
   "metadata": {},
   "outputs": [],
   "source": [
    "import pandas as pd"
   ]
  },
  {
   "cell_type": "markdown",
   "metadata": {},
   "source": [
    "# Создаем таблицу"
   ]
  },
  {
   "cell_type": "code",
   "execution_count": 110,
   "metadata": {},
   "outputs": [
    {
     "data": {
      "text/html": [
       "<div>\n",
       "<style scoped>\n",
       "    .dataframe tbody tr th:only-of-type {\n",
       "        vertical-align: middle;\n",
       "    }\n",
       "\n",
       "    .dataframe tbody tr th {\n",
       "        vertical-align: top;\n",
       "    }\n",
       "\n",
       "    .dataframe thead th {\n",
       "        text-align: right;\n",
       "    }\n",
       "</style>\n",
       "<table border=\"1\" class=\"dataframe\">\n",
       "  <thead>\n",
       "    <tr style=\"text-align: right;\">\n",
       "      <th></th>\n",
       "      <th>id</th>\n",
       "      <th>Имя</th>\n",
       "      <th>Текста</th>\n",
       "    </tr>\n",
       "  </thead>\n",
       "  <tbody>\n",
       "    <tr>\n",
       "      <th>0</th>\n",
       "      <td>1</td>\n",
       "      <td>Александр</td>\n",
       "      <td>Какой-то ваш текст</td>\n",
       "    </tr>\n",
       "    <tr>\n",
       "      <th>1</th>\n",
       "      <td>2</td>\n",
       "      <td>Дмитрий</td>\n",
       "      <td>Еще какой-то текст</td>\n",
       "    </tr>\n",
       "    <tr>\n",
       "      <th>2</th>\n",
       "      <td>3</td>\n",
       "      <td>Андрей</td>\n",
       "      <td>И снова какой-то текст</td>\n",
       "    </tr>\n",
       "  </tbody>\n",
       "</table>\n",
       "</div>"
      ],
      "text/plain": [
       "  id        Имя                  Текста\n",
       "0  1  Александр      Какой-то ваш текст\n",
       "1  2    Дмитрий      Еще какой-то текст\n",
       "2  3     Андрей  И снова какой-то текст"
      ]
     },
     "execution_count": 110,
     "metadata": {},
     "output_type": "execute_result"
    }
   ],
   "source": [
    "DATA = pd.DataFrame(columns=['id','Имя', 'Текста'])\n",
    " \n",
    "DATA.loc[len(DATA)] = [1, 'Александр', 'Какой-то ваш текст']\n",
    "DATA.loc[len(DATA)] = [2, 'Дмитрий', 'Еще какой-то текст']\n",
    "DATA.loc[len(DATA)] = [3, 'Андрей', 'И снова какой-то текст']\n",
    "\n",
    "DATA"
   ]
  },
  {
   "cell_type": "markdown",
   "metadata": {},
   "source": [
    "# Сохраняем таблицу"
   ]
  },
  {
   "cell_type": "code",
   "execution_count": 82,
   "metadata": {},
   "outputs": [],
   "source": [
    "DATA.to_csv('DATA.csv')  # 0.68"
   ]
  },
  {
   "cell_type": "markdown",
   "metadata": {},
   "source": [
    "# Снова открываем таблицу"
   ]
  },
  {
   "cell_type": "code",
   "execution_count": 111,
   "metadata": {},
   "outputs": [
    {
     "data": {
      "text/html": [
       "<div>\n",
       "<style scoped>\n",
       "    .dataframe tbody tr th:only-of-type {\n",
       "        vertical-align: middle;\n",
       "    }\n",
       "\n",
       "    .dataframe tbody tr th {\n",
       "        vertical-align: top;\n",
       "    }\n",
       "\n",
       "    .dataframe thead th {\n",
       "        text-align: right;\n",
       "    }\n",
       "</style>\n",
       "<table border=\"1\" class=\"dataframe\">\n",
       "  <thead>\n",
       "    <tr style=\"text-align: right;\">\n",
       "      <th></th>\n",
       "      <th>id</th>\n",
       "      <th>Имя</th>\n",
       "      <th>Текста</th>\n",
       "    </tr>\n",
       "  </thead>\n",
       "  <tbody>\n",
       "    <tr>\n",
       "      <th>0</th>\n",
       "      <td>1</td>\n",
       "      <td>Александр</td>\n",
       "      <td>Какой-то ваш текст</td>\n",
       "    </tr>\n",
       "    <tr>\n",
       "      <th>1</th>\n",
       "      <td>2</td>\n",
       "      <td>Дмитрий</td>\n",
       "      <td>Еще какой-то текст</td>\n",
       "    </tr>\n",
       "    <tr>\n",
       "      <th>2</th>\n",
       "      <td>3</td>\n",
       "      <td>Андрей</td>\n",
       "      <td>И снова какой-то текст</td>\n",
       "    </tr>\n",
       "  </tbody>\n",
       "</table>\n",
       "</div>"
      ],
      "text/plain": [
       "   id        Имя                  Текста\n",
       "0   1  Александр      Какой-то ваш текст\n",
       "1   2    Дмитрий      Еще какой-то текст\n",
       "2   3     Андрей  И снова какой-то текст"
      ]
     },
     "execution_count": 111,
     "metadata": {},
     "output_type": "execute_result"
    }
   ],
   "source": [
    "Data_again = pd.read_csv('DATA.csv', index_col=0) # , index_col=0 !!!\n",
    "Data_again"
   ]
  },
  {
   "cell_type": "code",
   "execution_count": 112,
   "metadata": {},
   "outputs": [
    {
     "data": {
      "text/plain": [
       "0    Какой-то ваш текст\n",
       "Name: Текста, dtype: object"
      ]
     },
     "execution_count": 112,
     "metadata": {},
     "output_type": "execute_result"
    }
   ],
   "source": [
    "Data_again[Data_again.id==1]['Текста']"
   ]
  },
  {
   "cell_type": "code",
   "execution_count": null,
   "metadata": {},
   "outputs": [],
   "source": []
  },
  {
   "cell_type": "markdown",
   "metadata": {},
   "source": [
    "но все равно не SQL =("
   ]
  },
  {
   "cell_type": "markdown",
   "metadata": {},
   "source": [
    "# Теперь привяжем бд к боту!"
   ]
  },
  {
   "cell_type": "code",
   "execution_count": 124,
   "metadata": {},
   "outputs": [],
   "source": [
    "conn = sqlite3.connect('data.sqlite')\n",
    "\n",
    "# Создаем курсор - это специальный объект который делает запросы и получает их результаты\n",
    "cursor = conn.cursor()"
   ]
  },
  {
   "cell_type": "code",
   "execution_count": 126,
   "metadata": {},
   "outputs": [
    {
     "data": {
      "text/plain": [
       "0"
      ]
     },
     "execution_count": 126,
     "metadata": {},
     "output_type": "execute_result"
    }
   ],
   "source": [
    "def create_table():\n",
    "    cursor.execute(\"\"\"CREATE TABLE visitors_tg (tg_nik text, data text, sent_text text) \"\"\")\n",
    "    return 0\n",
    "\n",
    "create_table()"
   ]
  },
  {
   "cell_type": "code",
   "execution_count": 136,
   "metadata": {},
   "outputs": [],
   "source": [
    "def insert_data(tg_nik, data, sent_text):\n",
    "    conn = sqlite3.connect('data.sqlite')\n",
    "    cursor = conn.cursor()\n",
    "    cursor.execute(\"INSERT INTO visitors_tg VALUES (?,?,?)\", (tg_nik, data, sent_text))\n",
    "    conn.commit()\n",
    "    conn.close()"
   ]
  },
  {
   "cell_type": "code",
   "execution_count": 131,
   "metadata": {},
   "outputs": [],
   "source": [
    "tg_nik, data, sent_text = 'some_nik', '230980234', 'some text'\n",
    "insert_data(tg_nik, data, sent_text)"
   ]
  },
  {
   "cell_type": "code",
   "execution_count": 132,
   "metadata": {},
   "outputs": [
    {
     "name": "stdout",
     "output_type": "stream",
     "text": [
      "[('some_nik', '230980234', 'some text')]\n"
     ]
    }
   ],
   "source": [
    "cursor.execute(\"SELECT * FROM visitors_tg ORDER BY tg_nik LIMIT 3\")\n",
    "results = cursor.fetchall()\n",
    "print(results)  "
   ]
  },
  {
   "cell_type": "code",
   "execution_count": null,
   "metadata": {},
   "outputs": [],
   "source": []
  },
  {
   "cell_type": "code",
   "execution_count": 140,
   "metadata": {},
   "outputs": [
    {
     "name": "stdout",
     "output_type": "stream",
     "text": [
      "None 1607155208 None 1607155208 🎲 Рандомное число\n",
      "😊 Как дела?\n",
      "NoneNone 1607155211 😊 Как дела?\n",
      " 1607155211 🎲 Рандомное число\n",
      "None 1607155212 🎲 Рандомное число\n",
      "None 1607155212 😊 Как дела?\n",
      "None 1607155212 🎲 Рандомное число\n",
      "ApiTelegramException('A request to the Telegram API was unsuccessful. Error code: 400 Description: Bad Request: message is not modified: specified new message content and reply markup are exactly the same as a current content and reply markup of the message')\n",
      "None 1607155228 🎲 Рандомное число\n",
      "None 1607155233 🎲 Рандомное число\n",
      "None 1607155239 Приветик\n",
      "agrlx 1607155240 Приветы\n",
      "agrlx 1607155263 ывыв\n",
      "WestEST77 1607155281 Привет!\n"
     ]
    }
   ],
   "source": [
    "import random\n",
    "\n",
    "import telebot\n",
    "from telebot import types\n",
    "\n",
    "Token = ' ваш токен бота'  # Ваш Токен из BotFather  У вас должен быть свой токен\n",
    "bot = telebot.TeleBot(Token)\n",
    "\n",
    "\n",
    "@bot.message_handler(commands=['start'])\n",
    "def welcome(message):\n",
    "    # keyboard\n",
    "    \n",
    "    markup = types.ReplyKeyboardMarkup(resize_keyboard=True)\n",
    "    item1 = types.KeyboardButton(\"🎲 Рандомное число\")\n",
    "    item2 = types.KeyboardButton(\"😊 Как дела?\")\n",
    "    markup.add(item1, item2)\n",
    " \n",
    "    bot.send_message(message.chat.id, \"Добро пожаловать, {0.first_name}!\\nЯ - <b>{1.first_name}</b>, бот созданный чтобы быть подопытным кроликом.\".format(message.from_user, bot.get_me()),\n",
    "        parse_mode='html', reply_markup=markup)\n",
    "\n",
    "\n",
    "@bot.message_handler(content_types=['text'])\n",
    "def lalala(message):\n",
    "     \n",
    "    name = message.from_user.username\n",
    "    date = message.date\n",
    "    text = message.text\n",
    "    print(name, date, text)\n",
    "    insert_data(name, date, text)\n",
    "    \n",
    "    if message.chat.type == 'private':\n",
    "        if message.text == '🎲 Рандомное число':\n",
    "            bot.send_message(message.chat.id, str(random.randint(0,100)))\n",
    "        elif message.text == '😊 Как дела?':\n",
    " \n",
    "            markup = types.InlineKeyboardMarkup(row_width=2)\n",
    "            item1 = types.InlineKeyboardButton(\"Хорошо\", callback_data='good')\n",
    "            item2 = types.InlineKeyboardButton(\"Не очень\", callback_data='bad')\n",
    " \n",
    "            markup.add(item1, item2)\n",
    " \n",
    "            bot.send_message(message.chat.id, 'Отлично, сам как?', reply_markup=markup)\n",
    "        else:\n",
    "            bot.send_message(message.chat.id, 'Я не знаю что ответить 😢')\n",
    "            \n",
    "            \n",
    "@bot.callback_query_handler(func=lambda call: True)\n",
    "def callback_inline(call):\n",
    "    try:\n",
    "        if call.message:\n",
    "            if call.data == 'good':\n",
    "                bot.send_message(call.message.chat.id, 'Вот и отличненько 😊')\n",
    "            elif call.data == 'bad':\n",
    "                bot.send_message(call.message.chat.id, 'Бывает 😢')\n",
    " \n",
    "            # remove inline buttons\n",
    "            bot.edit_message_text(chat_id=call.message.chat.id, message_id=call.message.message_id, text=\"😊 Как дела?\",\n",
    "                reply_markup=None)\n",
    " \n",
    "            # show alert\n",
    "            bot.answer_callback_query(callback_query_id=call.id, show_alert=False,\n",
    "                text=\"ЭТО ТЕСТОВОЕ УВЕДОМЛЕНИЕ!!11\")\n",
    " \n",
    "    except Exception as e:\n",
    "        print(repr(e))\n",
    " \n",
    "\n",
    "# RUN, Вася, RUN!\n",
    "bot.polling(none_stop=True)\n",
    "\n",
    "\n",
    "# Время в Unix time формате"
   ]
  },
  {
   "cell_type": "code",
   "execution_count": 142,
   "metadata": {},
   "outputs": [
    {
     "name": "stdout",
     "output_type": "stream",
     "text": [
      "[(None, '1607155161', '5'), (None, '1607155178', '🎲 Рандомное число'), (None, '1607155180', '😊 Как дела?'), (None, '1607155186', '🎲 Рандомное число'), (None, '1607155194', '🎲 Рандомное число'), (None, '1607155196', '😊 Как дела?'), (None, '1607155208', '😊 Как дела?'), (None, '1607155208', '🎲 Рандомное число'), (None, '1607155211', '😊 Как дела?'), (None, '1607155211', '🎲 Рандомное число'), (None, '1607155212', '🎲 Рандомное число'), (None, '1607155212', '😊 Как дела?'), (None, '1607155212', '🎲 Рандомное число'), (None, '1607155228', '🎲 Рандомное число'), (None, '1607155233', '🎲 Рандомное число'), (None, '1607155239', 'Приветик'), ('Aleron75infskin', '1607155038', '😊 Как дела?'), ('Aleron75infskin', '1607155152', '😊 Как дела?'), ('WestEST77', '1607155281', 'Привет!'), ('agrlx', '1607155240', 'Приветы'), ('agrlx', '1607155263', 'ывыв'), ('some_nik', '230980234', 'some text')]\n"
     ]
    }
   ],
   "source": [
    "cursor.execute(\"SELECT * FROM visitors_tg ORDER BY tg_nik\")\n",
    "results = cursor.fetchall()\n",
    "print(results)  "
   ]
  },
  {
   "cell_type": "code",
   "execution_count": null,
   "metadata": {},
   "outputs": [],
   "source": []
  }
 ],
 "metadata": {
  "kernelspec": {
   "display_name": "Python 3",
   "language": "python",
   "name": "python3"
  },
  "language_info": {
   "codemirror_mode": {
    "name": "ipython",
    "version": 3
   },
   "file_extension": ".py",
   "mimetype": "text/x-python",
   "name": "python",
   "nbconvert_exporter": "python",
   "pygments_lexer": "ipython3",
   "version": "3.7.9"
  }
 },
 "nbformat": 4,
 "nbformat_minor": 4
}
